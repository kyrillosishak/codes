{
  "nbformat": 4,
  "nbformat_minor": 0,
  "metadata": {
    "colab": {
      "provenance": []
    },
    "kernelspec": {
      "name": "python3",
      "display_name": "Python 3"
    },
    "language_info": {
      "name": "python"
    }
  },
  "cells": [
    {
      "cell_type": "code",
      "source": [
        "!pip install transformers"
      ],
      "metadata": {
        "colab": {
          "base_uri": "https://localhost:8080/"
        },
        "id": "qCGaP5wp73jo",
        "outputId": "8fd9a61a-394a-4eb6-8ad4-4fe862dbe93f"
      },
      "execution_count": 93,
      "outputs": [
        {
          "output_type": "stream",
          "name": "stdout",
          "text": [
            "Collecting transformers\n",
            "  Downloading transformers-4.31.0-py3-none-any.whl (7.4 MB)\n",
            "\u001b[2K     \u001b[90m━━━━━━━━━━━━━━━━━━━━━━━━━━━━━━━━━━━━━━━━\u001b[0m \u001b[32m7.4/7.4 MB\u001b[0m \u001b[31m52.2 MB/s\u001b[0m eta \u001b[36m0:00:00\u001b[0m\n",
            "\u001b[?25hRequirement already satisfied: filelock in /usr/local/lib/python3.10/dist-packages (from transformers) (3.12.2)\n",
            "Collecting huggingface-hub<1.0,>=0.14.1 (from transformers)\n",
            "  Downloading huggingface_hub-0.16.4-py3-none-any.whl (268 kB)\n",
            "\u001b[2K     \u001b[90m━━━━━━━━━━━━━━━━━━━━━━━━━━━━━━━━━━━━━━\u001b[0m \u001b[32m268.8/268.8 kB\u001b[0m \u001b[31m23.9 MB/s\u001b[0m eta \u001b[36m0:00:00\u001b[0m\n",
            "\u001b[?25hRequirement already satisfied: numpy>=1.17 in /usr/local/lib/python3.10/dist-packages (from transformers) (1.22.4)\n",
            "Requirement already satisfied: packaging>=20.0 in /usr/local/lib/python3.10/dist-packages (from transformers) (23.1)\n",
            "Requirement already satisfied: pyyaml>=5.1 in /usr/local/lib/python3.10/dist-packages (from transformers) (6.0)\n",
            "Requirement already satisfied: regex!=2019.12.17 in /usr/local/lib/python3.10/dist-packages (from transformers) (2022.10.31)\n",
            "Requirement already satisfied: requests in /usr/local/lib/python3.10/dist-packages (from transformers) (2.27.1)\n",
            "Collecting tokenizers!=0.11.3,<0.14,>=0.11.1 (from transformers)\n",
            "  Downloading tokenizers-0.13.3-cp310-cp310-manylinux_2_17_x86_64.manylinux2014_x86_64.whl (7.8 MB)\n",
            "\u001b[2K     \u001b[90m━━━━━━━━━━━━━━━━━━━━━━━━━━━━━━━━━━━━━━━━\u001b[0m \u001b[32m7.8/7.8 MB\u001b[0m \u001b[31m60.7 MB/s\u001b[0m eta \u001b[36m0:00:00\u001b[0m\n",
            "\u001b[?25hCollecting safetensors>=0.3.1 (from transformers)\n",
            "  Downloading safetensors-0.3.1-cp310-cp310-manylinux_2_17_x86_64.manylinux2014_x86_64.whl (1.3 MB)\n",
            "\u001b[2K     \u001b[90m━━━━━━━━━━━━━━━━━━━━━━━━━━━━━━━━━━━━━━━━\u001b[0m \u001b[32m1.3/1.3 MB\u001b[0m \u001b[31m54.8 MB/s\u001b[0m eta \u001b[36m0:00:00\u001b[0m\n",
            "\u001b[?25hRequirement already satisfied: tqdm>=4.27 in /usr/local/lib/python3.10/dist-packages (from transformers) (4.65.0)\n",
            "Requirement already satisfied: fsspec in /usr/local/lib/python3.10/dist-packages (from huggingface-hub<1.0,>=0.14.1->transformers) (2023.6.0)\n",
            "Requirement already satisfied: typing-extensions>=3.7.4.3 in /usr/local/lib/python3.10/dist-packages (from huggingface-hub<1.0,>=0.14.1->transformers) (4.7.1)\n",
            "Requirement already satisfied: urllib3<1.27,>=1.21.1 in /usr/local/lib/python3.10/dist-packages (from requests->transformers) (1.26.16)\n",
            "Requirement already satisfied: certifi>=2017.4.17 in /usr/local/lib/python3.10/dist-packages (from requests->transformers) (2023.5.7)\n",
            "Requirement already satisfied: charset-normalizer~=2.0.0 in /usr/local/lib/python3.10/dist-packages (from requests->transformers) (2.0.12)\n",
            "Requirement already satisfied: idna<4,>=2.5 in /usr/local/lib/python3.10/dist-packages (from requests->transformers) (3.4)\n",
            "Installing collected packages: tokenizers, safetensors, huggingface-hub, transformers\n",
            "Successfully installed huggingface-hub-0.16.4 safetensors-0.3.1 tokenizers-0.13.3 transformers-4.31.0\n"
          ]
        }
      ]
    },
    {
      "cell_type": "code",
      "source": [
        "from transformers import BertTokenizer, BertModel\n",
        "from sklearn.metrics.pairwise import cosine_similarity\n",
        "import torch\n",
        "import networkx as nx"
      ],
      "metadata": {
        "id": "w7D_X6LlJfZd"
      },
      "execution_count": 180,
      "outputs": []
    },
    {
      "cell_type": "markdown",
      "source": [
        "## Loading pre-trained model (e.g. BERT)"
      ],
      "metadata": {
        "id": "vzXhugUnJiU0"
      }
    },
    {
      "cell_type": "code",
      "source": [
        "# Load the pre-trained BERT model and tokenizer\n",
        "model_name = 'bert-base-uncased'\n",
        "tokenizer = BertTokenizer.from_pretrained(model_name)\n",
        "model = BertModel.from_pretrained(model_name)"
      ],
      "metadata": {
        "id": "NWfsw-sZJhlw"
      },
      "execution_count": 181,
      "outputs": []
    },
    {
      "cell_type": "markdown",
      "source": [
        "## Calculating Cosine simmilarity"
      ],
      "metadata": {
        "id": "p__dwImzJqzw"
      }
    },
    {
      "cell_type": "code",
      "source": [
        "# Define a function to calculate sentence similarity\n",
        "def calculate_similarity(sentence1, sentence2):\n",
        "    # Tokenize the sentences\n",
        "    inputs = tokenizer.encode_plus(sentence1, sentence2, add_special_tokens=True, return_tensors='pt')\n",
        "\n",
        "    # Get the token embeddings\n",
        "    with torch.no_grad():\n",
        "        outputs = model(**inputs)\n",
        "        sentence_embeddings = outputs.last_hidden_state\n",
        "\n",
        "    # Calculate cosine similarity\n",
        "    embedding1 = sentence_embeddings[0, 0, :]  # Embedding for the first sentence\n",
        "    embedding2 = sentence_embeddings[0, 1, :]  # Embedding for the second sentence\n",
        "    similarity = torch.nn.functional.cosine_similarity(embedding1, embedding2, dim=0).item()\n",
        "    return similarity\n"
      ],
      "metadata": {
        "id": "eRbD0F4nJwKH"
      },
      "execution_count": 182,
      "outputs": []
    },
    {
      "cell_type": "markdown",
      "source": [
        "## Constructing Graph simmilarity"
      ],
      "metadata": {
        "id": "9q2WfrhOKOHx"
      }
    },
    {
      "cell_type": "code",
      "source": [
        "# Example usage\n",
        "sentences = [\n",
        "    \"The cat is sitting on the mat.\",               ##------|\n",
        "    \"The feline is lounging on the rug.\",           #       |-> more simmilar\n",
        "    \"The dogs are in yard.\",                        ##------|\n",
        "\n",
        "    \"The student is going to school\",               ##------|\n",
        "    \"The doctor is teaching in the university.\",    #       |-> more simmilar\n",
        "    \"A lawyer went to the court.\"                   ##------|\n",
        "]\n",
        "threshold = 0.41"
      ],
      "metadata": {
        "id": "2kBiO7BRKEMo"
      },
      "execution_count": 183,
      "outputs": []
    },
    {
      "cell_type": "code",
      "source": [
        "# Create a graph\n",
        "graph = nx.Graph()"
      ],
      "metadata": {
        "id": "4UrLYCB_J4EY"
      },
      "execution_count": 184,
      "outputs": []
    },
    {
      "cell_type": "code",
      "source": [
        " # Add nodes (sentences) to the graph\n",
        "for i, sentence in enumerate(sentences):\n",
        "    graph.add_node(i, sentence=sentence)"
      ],
      "metadata": {
        "id": "tEtcvY6BJ6xs"
      },
      "execution_count": 185,
      "outputs": []
    },
    {
      "cell_type": "code",
      "source": [
        "# Add edges based on similarity above the threshold\n",
        "num_sentences = len(sentences)\n",
        "for i in range(num_sentences):\n",
        "    for j in range(i + 1, num_sentences):\n",
        "        similarity = calculate_similarity(sentences[i], sentences[j])\n",
        "        if similarity > threshold:\n",
        "            graph.add_edge(i, j)"
      ],
      "metadata": {
        "id": "gFr_3ZN0J9ac"
      },
      "execution_count": 186,
      "outputs": []
    },
    {
      "cell_type": "code",
      "source": [
        "# Print the nodes and edges of the graph\n",
        "print(\"Nodes:\", graph.nodes(data=True))\n",
        "print(\"Edges:\", graph.edges())\n"
      ],
      "metadata": {
        "colab": {
          "base_uri": "https://localhost:8080/"
        },
        "id": "foCEsdyQ9fAF",
        "outputId": "7fc7bf41-fab6-425c-8e2c-b7357477505d"
      },
      "execution_count": 187,
      "outputs": [
        {
          "output_type": "stream",
          "name": "stdout",
          "text": [
            "Nodes: [(0, {'sentence': 'The cat is sitting on the mat.'}), (1, {'sentence': 'The feline is lounging on the rug.'}), (2, {'sentence': 'The dogs are in yard.'}), (3, {'sentence': 'The student is going to school'}), (4, {'sentence': 'The doctor is teaching in the university.'}), (5, {'sentence': 'A lawyer went to the court.'})]\n",
            "Edges: [(0, 1), (0, 2), (1, 2), (2, 5), (3, 4), (3, 5), (4, 5)]\n"
          ]
        }
      ]
    },
    {
      "cell_type": "markdown",
      "source": [
        "## plotting the graph"
      ],
      "metadata": {
        "id": "HRq_Odk3KXFp"
      }
    },
    {
      "cell_type": "code",
      "source": [
        "import matplotlib.pyplot as plt\n",
        "plt.figure(figsize=(8, 6))\n",
        "pos = nx.spring_layout(graph)  # Position the nodes using a spring layout\n",
        "nx.draw_networkx_nodes(graph, pos, node_size=500, node_color='lightblue')\n",
        "nx.draw_networkx_edges(graph, pos, width=1, alpha=0.5, edge_color='gray')\n",
        "nx.draw_networkx_labels(graph, pos, font_size=10, font_color='black')\n",
        "plt.title(\"Text Similarity Graph\")\n",
        "plt.axis('off')\n",
        "plt.show()"
      ],
      "metadata": {
        "colab": {
          "base_uri": "https://localhost:8080/",
          "height": 521
        },
        "id": "OQlf1E7s-XIp",
        "outputId": "c80959e6-c905-4b03-c25b-55d6efa50f89"
      },
      "execution_count": 188,
      "outputs": [
        {
          "output_type": "display_data",
          "data": {
            "text/plain": [
              "<Figure size 800x600 with 1 Axes>"
            ],
            "image/png": "[encoded data removed]"
          },
          "metadata": {}
        }
      ]
    },
    {
      "cell_type": "markdown",
      "source": [
        "\n",
        "\n",
        "> As we see the sentences 0 , 1 , 2 are connected together as they are more simmilar to each other than 3 , 4 , 5 that is also connected together as they are more simmilar.\n",
        "\n",
        "\n"
      ],
      "metadata": {
        "id": "CNCOYLftKjOs"
      }
    }
  ]
}